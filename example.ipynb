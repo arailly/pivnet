{
 "cells": [
  {
   "cell_type": "code",
   "execution_count": 1,
   "source": [
    "import os, sys, gc, time, pickle, importlib\n",
    "from numba import jit, i4, f4\n",
    "from numba.experimental import jitclass\n",
    "import pandas as pd\n",
    "import numpy as np\n",
    "from copy import deepcopy\n",
    "import matplotlib.pyplot as plt\n",
    "from scipy.spatial import KDTree\n",
    "\n",
    "from sklearn.preprocessing import StandardScaler\n",
    "import torch\n",
    "from torch.autograd import Variable\n",
    "from torch.utils.data import Dataset, DataLoader\n",
    "\n",
    "from sklearn.metrics import mean_squared_error as mse, mean_absolute_error as mae\n",
    "import torch.nn as nn\n",
    "import torch.nn.functional as F\n",
    "from torch import optim\n",
    "\n",
    "import pivnet\n",
    "importlib.reload(pivnet)"
   ],
   "outputs": [
    {
     "output_type": "execute_result",
     "data": {
      "text/plain": [
       "<module 'pivnet' from '/Users/yusuke/workspace/pivnet/pivnet.py'>"
      ]
     },
     "metadata": {},
     "execution_count": 1
    }
   ],
   "metadata": {}
  },
  {
   "cell_type": "markdown",
   "source": [
    "## Parameter Setting\n",
    "---"
   ],
   "metadata": {}
  },
  {
   "cell_type": "code",
   "execution_count": 2,
   "source": [
    "k_max = 50\n",
    "dim = 2\n",
    "n = 200_000\n",
    "n_train = 100_000\n",
    "n_test = 10_000\n",
    "\n",
    "grid = 1024\n",
    "margin = 1.\n",
    "n_units = [k_max+dim+1, 64, 64, 32, k_max]\n",
    "batch_size = 500\n",
    "max_epoch = 50\n",
    "patience = 10\n",
    "min_delta = 0\n",
    "learning_rate = 1e-1"
   ],
   "outputs": [],
   "metadata": {}
  },
  {
   "cell_type": "markdown",
   "source": [
    "## Prepare dataset\n",
    "---"
   ],
   "metadata": {}
  },
  {
   "cell_type": "markdown",
   "source": [
    "### Prepare queries"
   ],
   "metadata": {}
  },
  {
   "cell_type": "code",
   "execution_count": 3,
   "source": [
    "bottom_left = [0, 0]\n",
    "upper_right = [100, 100]\n",
    "\n",
    "rng = np.random.default_rng(42)\n",
    "database = rng.uniform(\n",
    "    low=bottom_left,\n",
    "    high=upper_right,\n",
    "    size=(n, dim)\n",
    ").astype('float32')\n",
    "\n",
    "plt.scatter(database[:, 0], database[:, 1])"
   ],
   "outputs": [
    {
     "output_type": "execute_result",
     "data": {
      "text/plain": [
       "<matplotlib.collections.PathCollection at 0x14fd651c0>"
      ]
     },
     "metadata": {},
     "execution_count": 3
    },
    {
     "output_type": "display_data",
     "data": {
      "image/png": "[encoded data removed]",
      "text/plain": [
       "<Figure size 432x288 with 1 Axes>"
      ]
     },
     "metadata": {
      "needs_background": "light"
     }
    }
   ],
   "metadata": {}
  },
  {
   "cell_type": "code",
   "execution_count": 4,
   "source": [
    "train_queries = rng.uniform(\n",
    "    low=bottom_left,\n",
    "    high=upper_right,\n",
    "    size=(n_train, dim)\n",
    ").astype('float32')\n",
    "\n",
    "test_queries = rng.uniform(\n",
    "    low=bottom_left,\n",
    "    high=upper_right,\n",
    "    size=(n_test, dim)\n",
    ").astype('float32')"
   ],
   "outputs": [],
   "metadata": {}
  },
  {
   "cell_type": "code",
   "execution_count": 5,
   "source": [
    "query_scaler = StandardScaler()\n",
    "query_scaler.fit(train_queries)"
   ],
   "outputs": [
    {
     "output_type": "execute_result",
     "data": {
      "text/plain": [
       "StandardScaler()"
      ]
     },
     "metadata": {},
     "execution_count": 5
    }
   ],
   "metadata": {}
  },
  {
   "cell_type": "markdown",
   "source": [
    "### Prepare exact kNN distances"
   ],
   "metadata": {}
  },
  {
   "cell_type": "code",
   "execution_count": 6,
   "source": [
    "tree = KDTree(database)\n",
    "train_knnd = tree.query(train_queries, k=k_max)[0].astype('float32')\n",
    "test_knnd = tree.query(test_queries, k=k_max)[0].astype('float32')"
   ],
   "outputs": [],
   "metadata": {}
  },
  {
   "cell_type": "code",
   "execution_count": 7,
   "source": [
    "knnd_scaler = StandardScaler()\n",
    "train_knnd_scaled = knnd_scaler.fit_transform(train_knnd)\n",
    "test_knnd_scaled = knnd_scaler.transform(test_knnd)"
   ],
   "outputs": [],
   "metadata": {}
  },
  {
   "cell_type": "code",
   "execution_count": 8,
   "source": [
    "x_train = torch.from_numpy(train_queries).float()\n",
    "y_train = torch.from_numpy(train_knnd_scaled).float()\n",
    "train_dataloader = DataLoader(\n",
    "    pivnet.SimpleDataset(x_train, y_train),\n",
    "    batch_size=batch_size,\n",
    "    shuffle=True\n",
    ")\n",
    "\n",
    "x_test = torch.from_numpy(test_queries).float()\n",
    "y_test = torch.from_numpy(test_knnd_scaled).float()"
   ],
   "outputs": [],
   "metadata": {}
  },
  {
   "cell_type": "markdown",
   "source": [
    "### Prepare pivots"
   ],
   "metadata": {}
  },
  {
   "cell_type": "code",
   "execution_count": 9,
   "source": [
    "pivots = pivnet.generate_pivots(\n",
    "    database, grid, k_max, margin=margin, n_threads=8\n",
    ")"
   ],
   "outputs": [],
   "metadata": {}
  },
  {
   "cell_type": "markdown",
   "source": [
    "## Training and evaluation\n",
    "---"
   ],
   "metadata": {}
  },
  {
   "cell_type": "code",
   "execution_count": 10,
   "source": [
    "net = pivnet.PivNet(n_units, pivots, query_scaler, knnd_scaler)\n",
    "optimizer = optim.SGD(net.parameters(), lr=learning_rate)\n",
    "criterion = nn.L1Loss(reduction='mean')"
   ],
   "outputs": [],
   "metadata": {}
  },
  {
   "cell_type": "code",
   "execution_count": 11,
   "source": [
    "for epoch in range(max_epoch):\n",
    "    net.train()\n",
    "    for x_batch, y_batch in train_dataloader:\n",
    "        optimizer.zero_grad()\n",
    "\n",
    "        output = net(x_batch)\n",
    "        loss = criterion(output, y_batch)\n",
    "\n",
    "        loss.backward()\n",
    "        optimizer.step()"
   ],
   "outputs": [],
   "metadata": {}
  },
  {
   "cell_type": "code",
   "execution_count": 12,
   "source": [
    "net.eval()\n",
    "with torch.no_grad():\n",
    "    output = net.estimate(x_test)\n",
    "mae = abs(output - test_knnd).mean()\n",
    "mae"
   ],
   "outputs": [
    {
     "output_type": "execute_result",
     "data": {
      "text/plain": [
       "tensor(0.0126, dtype=torch.float64)"
      ]
     },
     "metadata": {},
     "execution_count": 12
    }
   ],
   "metadata": {}
  },
  {
   "cell_type": "code",
   "execution_count": null,
   "source": [],
   "outputs": [],
   "metadata": {}
  }
 ],
 "metadata": {
  "orig_nbformat": 4,
  "language_info": {
   "name": "python",
   "version": "3.9.1",
   "mimetype": "text/x-python",
   "codemirror_mode": {
    "name": "ipython",
    "version": 3
   },
   "pygments_lexer": "ipython3",
   "nbconvert_exporter": "python",
   "file_extension": ".py"
  },
  "kernelspec": {
   "name": "python3",
   "display_name": "Python 3.9.1 64-bit"
  },
  "interpreter": {
   "hash": "aee8b7b246df8f9039afb4144a1f6fd8d2ca17a180786b69acc140d282b71a49"
  }
 },
 "nbformat": 4,
 "nbformat_minor": 2
}